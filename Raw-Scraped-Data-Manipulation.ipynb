{
 "cells": [
  {
   "cell_type": "code",
   "execution_count": 6,
   "metadata": {},
   "outputs": [],
   "source": [
    "import csv\n",
    "import pandas\n",
    "import statistics"
   ]
  },
  {
   "cell_type": "markdown",
   "metadata": {},
   "source": [
    "# Remove Duplicates"
   ]
  },
  {
   "cell_type": "markdown",
   "metadata": {},
   "source": [
    "Remove any duplicates that appear when scraping the data from Youtube. Probably an issue with the scraping script. "
   ]
  },
  {
   "cell_type": "code",
   "execution_count": 9,
   "metadata": {},
   "outputs": [
    {
     "name": "stdout",
     "output_type": "stream",
     "text": [
      "https://i.ytimg.com/vi/-QYAUXzYuE8/default.jpg\n",
      "num of duplicates: 34880 out of 41075 items.\n"
     ]
    }
   ],
   "source": [
    "videosdata = pandas.read_csv('channeldata.csv')\n",
    "print(videosdata.iloc[1]['ThumbnailURL'])\n",
    "\n",
    "seen = []\n",
    "result = []\n",
    "dups =0\n",
    "for itemnum in videosdata.index:\n",
    "    if itemnum != 0:\n",
    "        if videosdata.iloc[itemnum][\"ThumbnailURL\"] not in seen:\n",
    "            result.append(videosdata.iloc[itemnum])\n",
    "            seen.append(videosdata.iloc[itemnum]['ThumbnailURL'])\n",
    "        else:\n",
    "            dups +=1\n",
    "\n",
    "print(f\"num of duplicates: {dups} out of {itemnum} items.\")\n",
    "\n",
    "with open(\"correcteddata.csv\", 'a', encoding=\"utf-8\", newline='') as f:\n",
    "    writer = csv.writer(f)\n",
    "    writer.writerow(['ChannelID', 'ChannelName', 'Title', 'Viewcount', 'ThumbnailURL', 'Time', 'Tags', 'Duration'])\n",
    "    writer.writerows(result)"
   ]
  },
  {
   "cell_type": "markdown",
   "metadata": {},
   "source": [
    "# Check for data loss after duplicates removed"
   ]
  },
  {
   "cell_type": "markdown",
   "metadata": {},
   "source": [
    "Double check no data was lost when removing the duplicates."
   ]
  },
  {
   "cell_type": "code",
   "execution_count": 10,
   "metadata": {},
   "outputs": [
    {
     "name": "stdout",
     "output_type": "stream",
     "text": [
      "['Date']\n"
     ]
    }
   ],
   "source": [
    "list2 = pandas.read_csv('channelData.csv')\n",
    "list1 = pandas.read_csv('correcteddata.csv')\n",
    "print(list(set(list2).difference(list1)))"
   ]
  },
  {
   "cell_type": "markdown",
   "metadata": {},
   "source": [
    "# Create new file with Z-Scores"
   ]
  },
  {
   "cell_type": "markdown",
   "metadata": {},
   "source": [
    "Calculate the zscores for each video. This takes into account only videos by the same creator and only the 7 videos either side (date wise) of the video in question. "
   ]
  },
  {
   "cell_type": "code",
   "execution_count": 11,
   "metadata": {},
   "outputs": [],
   "source": [
    "videosdata = pandas.read_csv('correcteddata.csv')\n",
    "allzscores = []\n",
    "for videoind in videosdata.index:\n",
    "    curChannel = str(videosdata.iloc[videoind]['ChannelID'])\n",
    "    curChanViews = videosdata.iloc[videoind]['Viewcount']\n",
    "    surrounding = []\n",
    "\n",
    "    forward = 8\n",
    "    if videoind >= videosdata.shape[0] - 7 -1:\n",
    "        forward = videosdata.shape[0]-1 - videoind\n",
    "        \n",
    "    for v in range(forward):\n",
    "        surrounding.append(videosdata.iloc[videoind+v])\n",
    "    a=7\n",
    "    for v in range(7):\n",
    "        surrounding.append(videosdata.iloc[videoind-a])\n",
    "        a-=1\n",
    "    \n",
    "    surrounding = pandas.DataFrame(surrounding).reset_index(drop=True) # resets indexnummbers from original dataframe to up to date indexes\n",
    "    \n",
    "    todel = [] \n",
    "    for s in surrounding.index: # removes other channels from surrounding 7 videos\n",
    "        urmum =str(surrounding.iloc[s]['ChannelID'])\n",
    "        if urmum != curChannel: # if channel not the same\n",
    "            todel.append(s)\n",
    "    chansurround = surrounding.drop(index=todel).reset_index(drop=True)\n",
    "\n",
    "    viewcounts = []\n",
    "    for i in chansurround.index:\n",
    "        viewcounts.append(chansurround.iloc[i]['Viewcount'])\n",
    "    zscore = (curChanViews - statistics.mean(viewcounts)) / statistics.stdev(viewcounts)\n",
    "    allzscores.append(zscore)\n",
    "\n",
    "videosdata['Z-Score'] = allzscores\n",
    "videosdata.to_csv('datazscores.csv')"
   ]
  },
  {
   "cell_type": "markdown",
   "metadata": {},
   "source": [
    "# Thresholds"
   ]
  },
  {
   "cell_type": "markdown",
   "metadata": {},
   "source": [
    "Adds a binary 'isGood' varibable if the z-score is over threshold"
   ]
  },
  {
   "cell_type": "code",
   "execution_count": 36,
   "metadata": {},
   "outputs": [],
   "source": [
    "data = pandas.read_csv('datazscores.csv')\n",
    "threshold = 0\n",
    "\n",
    "for i in data.index:\n",
    "    if data.iloc[i]['Z-Score'] > threshold:\n",
    "        data.at[i,'isGood'] = 1\n",
    "    else:\n",
    "        data.at[i,'isGood'] = 0\n",
    "\n",
    "data.to_csv(f'datathreshold{threshold}.csv')"
   ]
  },
  {
   "cell_type": "code",
   "execution_count": null,
   "metadata": {},
   "outputs": [],
   "source": [
    "import random\n",
    "data = pandas.read_csv('datathreshold1.csv')\n",
    "\n",
    "isGood = 0\n",
    "isBad = 1\n",
    "for i in data['isGood']:\n",
    "    if i == 0:\n",
    "        isBad += 1\n",
    "    elif i == 1:\n",
    "        isGood += 1\n",
    "\n",
    "new = []\n",
    "\n",
    "\n",
    "if isGood < isBad:\n",
    "    for i in data.index:\n",
    "        if data.iloc[i]['isGood'] == 1:\n",
    "            new.append(data.iloc[i])\n",
    "            data.\n",
    "else:\n",
    "    print('more isBad than isGood')\n",
    "            \n",
    "data.sample(frac=1)\n",
    "\n",
    "dataframe =  pandas.DataFrame({'Name': ['Good', 'Bad'], 'nu': [isGood, isBad]})\n"
   ]
  },
  {
   "cell_type": "code",
   "execution_count": 40,
   "metadata": {},
   "outputs": [
    {
     "data": {
      "text/plain": [
       "<AxesSubplot:ylabel='nu'>"
      ]
     },
     "execution_count": 40,
     "metadata": {},
     "output_type": "execute_result"
    },
    {
     "data": {
      "image/png": "[encoded data removed]",
      "text/plain": [
       "<Figure size 432x288 with 1 Axes>"
      ]
     },
     "metadata": {},
     "output_type": "display_data"
    },
    {
     "data": {
      "image/png": "[encoded data removed]",
      "text/plain": [
       "<Figure size 432x288 with 1 Axes>"
      ]
     },
     "metadata": {},
     "output_type": "display_data"
    },
    {
     "data": {
      "image/png": "[encoded data removed]",
      "text/plain": [
       "<Figure size 432x288 with 1 Axes>"
      ]
     },
     "metadata": {},
     "output_type": "display_data"
    },
    {
     "data": {
      "image/png": "[encoded data removed]",
      "text/plain": [
       "<Figure size 432x288 with 1 Axes>"
      ]
     },
     "metadata": {},
     "output_type": "display_data"
    }
   ],
   "source": [
    "data = pandas.read_csv('datathreshold1.csv')\n",
    "isGood = 0\n",
    "isBad = 1\n",
    "for i in data['isGood']:\n",
    "    if i == 0:\n",
    "        isBad += 1\n",
    "    elif i == 1:\n",
    "        isGood += 1\n",
    "dataframe =  pandas.DataFrame({'Name': ['Good', 'Bad'], 'nu': [isGood, isBad]})\n",
    "\n",
    "data2 = pandas.read_csv('datathreshold2.csv')\n",
    "isGood = 0\n",
    "isBad = 1\n",
    "for i in data2['isGood']:\n",
    "    if i == 0:\n",
    "        isBad += 1\n",
    "    elif i == 1:\n",
    "        isGood += 1\n",
    "dataframe2 =  pandas.DataFrame({'Name': ['Good', 'Bad'], 'nu': [isGood, isBad]})\n",
    "print(isGood)\n",
    "\n",
    "data3 = pandas.read_csv('datathreshold3.csv')\n",
    "isGood = 0\n",
    "isBad = 1\n",
    "for i in data3['isGood']:\n",
    "    if i == 0:\n",
    "        isBad += 1\n",
    "    elif i == 1:\n",
    "        isGood += 1\n",
    "dataframe3 =  pandas.DataFrame({'Name': ['Good', 'Bad'], 'nu': [isGood, isBad]})\n",
    "\n",
    "data0 = pandas.read_csv('datathreshold0.csv')\n",
    "isGood = 0\n",
    "isBad = 1\n",
    "for i in data0['isGood']:\n",
    "    if i == 0:\n",
    "        isBad += 1\n",
    "    elif i == 1:\n",
    "        isGood += 1\n",
    "dataframe0 =  pandas.DataFrame({'Name': ['Good', 'Bad'], 'nu': [isGood, isBad]})\n",
    "\n",
    "dataframe0.groupby(['Name']).sum().plot(kind='pie', autopct='%1.0f%%', y='nu')\n",
    "dataframe.groupby(['Name']).sum().plot(kind='pie',  autopct='%1.0f%%',y='nu')\n",
    "dataframe2.groupby(['Name']).sum().plot(kind='pie', autopct='%1.0f%%', y='nu')\n",
    "dataframe3.groupby(['Name']).sum().plot(kind='pie', autopct='%1.0f%%', y='nu')"
   ]
  }
 ],
 "metadata": {
  "kernelspec": {
   "display_name": "Python 3.9.7 64-bit",
   "language": "python",
   "name": "python3"
  },
  "language_info": {
   "codemirror_mode": {
    "name": "ipython",
    "version": 3
   },
   "file_extension": ".py",
   "mimetype": "text/x-python",
   "name": "python",
   "nbconvert_exporter": "python",
   "pygments_lexer": "ipython3",
   "version": "3.9.7"
  },
  "orig_nbformat": 4,
  "vscode": {
   "interpreter": {
    "hash": "1f84be272b029bb9e400cc8489ce55bae89653ee1c96ee4ce526cabbc41e0248"
   }
  }
 },
 "nbformat": 4,
 "nbformat_minor": 2
}
