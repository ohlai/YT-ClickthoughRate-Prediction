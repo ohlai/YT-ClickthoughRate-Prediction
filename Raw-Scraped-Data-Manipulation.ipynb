{
 "cells": [
  {
   "cell_type": "code",
   "execution_count": 1,
   "metadata": {},
   "outputs": [],
   "source": [
    "import csv\n",
    "import pandas\n",
    "import statistics"
   ]
  },
  {
   "cell_type": "markdown",
   "metadata": {},
   "source": [
    "# Remove Duplicates"
   ]
  },
  {
   "cell_type": "markdown",
   "metadata": {},
   "source": [
    "Remove any duplicates that appear when scraping the data from Youtube. Probably an issue with the scraping script. "
   ]
  },
  {
   "cell_type": "code",
   "execution_count": 7,
   "metadata": {},
   "outputs": [
    {
     "name": "stdout",
     "output_type": "stream",
     "text": [
      "https://i.ytimg.com/vi/-QYAUXzYuE8/default.jpg\n",
      "num of duplicates: 34880 out of 38198 items.\n"
     ]
    }
   ],
   "source": [
    "videosdata = pandas.read_csv('channelData.csv')\n",
    "print(videosdata.iloc[1]['ThumbnailURL'])\n",
    "\n",
    "seen = []\n",
    "result = []\n",
    "dups =0\n",
    "for itemnum in videosdata.index:\n",
    "    if itemnum != 0:\n",
    "        if videosdata.iloc[itemnum][\"ThumbnailURL\"] not in seen:\n",
    "            result.append(videosdata.iloc[itemnum])\n",
    "            seen.append(videosdata.iloc[itemnum]['ThumbnailURL'])\n",
    "        else:\n",
    "            dups +=1\n",
    "\n",
    "print(f\"num of duplicates: {dups} out of {itemnum} items.\")\n",
    "\n",
    "with open(\"correcteddata.csv\", 'a', encoding=\"utf-8\", newline='') as f:\n",
    "    writer = csv.writer(f)\n",
    "    writer.writerow(['ChannelID', 'ChannelName', 'Title', 'Viewcount', 'ThumbnailURL', 'Time', 'Tags', 'Duration'])\n",
    "    writer.writerows(result)"
   ]
  },
  {
   "cell_type": "markdown",
   "metadata": {},
   "source": [
    "# Check for data loss after duplicates removed"
   ]
  },
  {
   "cell_type": "markdown",
   "metadata": {},
   "source": [
    "Double check no data was lost when removing the duplicates."
   ]
  },
  {
   "cell_type": "code",
   "execution_count": 8,
   "metadata": {},
   "outputs": [
    {
     "name": "stdout",
     "output_type": "stream",
     "text": [
      "[]\n"
     ]
    }
   ],
   "source": [
    "list2 = pandas.read_csv('channelData.csv')\n",
    "list1 = pandas.read_csv('correcteddata.csv')\n",
    "print(list(set(list2).difference(list1)))"
   ]
  },
  {
   "cell_type": "markdown",
   "metadata": {},
   "source": [
    "# Create new file with Z-Scores"
   ]
  },
  {
   "cell_type": "markdown",
   "metadata": {},
   "source": [
    "Calculate the zscores for each video. This takes into account only videos by the same creator and only the 7 videos either side (date wise) of the video in question. "
   ]
  },
  {
   "cell_type": "code",
   "execution_count": 9,
   "metadata": {},
   "outputs": [
    {
     "name": "stdout",
     "output_type": "stream",
     "text": [
      "                     ChannelID    ChannelName  \\\n",
      "0     UCn6SuRuauJlbWsw7eH1FQTQ          ohlai   \n",
      "1     UCn6SuRuauJlbWsw7eH1FQTQ          ohlai   \n",
      "2     UCn6SuRuauJlbWsw7eH1FQTQ          ohlai   \n",
      "3     UCJLZe_NoiG0hT7QCX_9vmqw  I did a thing   \n",
      "4     UCJLZe_NoiG0hT7QCX_9vmqw  I did a thing   \n",
      "...                        ...            ...   \n",
      "3313  UCkjrBN_GAjFJyVvjcI07KkQ    heyxnatalie   \n",
      "3314  UCkjrBN_GAjFJyVvjcI07KkQ    heyxnatalie   \n",
      "3315  UCkjrBN_GAjFJyVvjcI07KkQ    heyxnatalie   \n",
      "3316  UCkjrBN_GAjFJyVvjcI07KkQ    heyxnatalie   \n",
      "3317  UCkjrBN_GAjFJyVvjcI07KkQ    heyxnatalie   \n",
      "\n",
      "                                                  Title  Viewcount  \\\n",
      "0     I Made a Michael Reeves Robot That DESTROYS Yo...       2974   \n",
      "1                       Oli Bailey has just subscribed!       1776   \n",
      "2     Making the Worlds Largest Umbrella (to escape ...        421   \n",
      "3                            I put a gun on a robot dog    4814772   \n",
      "4                   How Many Shirts Will Stop a Bullet?    3948984   \n",
      "...                                                 ...        ...   \n",
      "3313             I Surprised Him With A Plane Ticket...      87373   \n",
      "3314                        the day i should've died...    2793348   \n",
      "3315            Spending The Night On Top Of A Mountain     241268   \n",
      "3316                We Went On A Week Long Road Trip...     262769   \n",
      "3317                                800 MILES (TRAILER)     124213   \n",
      "\n",
      "                                        ThumbnailURL                  Time  \\\n",
      "0     https://i.ytimg.com/vi/-QYAUXzYuE8/default.jpg  2022-01-08T09:18:35Z   \n",
      "1     https://i.ytimg.com/vi/AGXLavLe0Do/default.jpg  2020-01-06T04:37:02Z   \n",
      "2     https://i.ytimg.com/vi/jAQCAHjAOJY/default.jpg  2022-04-03T08:57:06Z   \n",
      "3     https://i.ytimg.com/vi/0rliFQ0qyAM/default.jpg  2022-08-06T15:00:00Z   \n",
      "4     https://i.ytimg.com/vi/F8xIr28fns0/default.jpg  2022-07-09T17:00:08Z   \n",
      "...                                              ...                   ...   \n",
      "3313  https://i.ytimg.com/vi/Whxht4j4vcw/default.jpg  2019-11-25T23:00:05Z   \n",
      "3314  https://i.ytimg.com/vi/Chxh8182HP8/default.jpg  2019-11-08T23:00:03Z   \n",
      "3315  https://i.ytimg.com/vi/uamAyH_Hy5I/default.jpg  2019-10-31T00:00:12Z   \n",
      "3316  https://i.ytimg.com/vi/vzEEROItZoc/default.jpg  2019-10-28T23:30:34Z   \n",
      "3317  https://i.ytimg.com/vi/e11XlzVq6p4/default.jpg  2019-10-23T22:00:04Z   \n",
      "\n",
      "                                                   Tags Duration  \n",
      "0     ['michael reeves', 'scooter ankles', 'michael ...  PT3M39S  \n",
      "1     ['stormbound', 'games', '2020', 'shadowfen', '...  PT3M39S  \n",
      "2     ['flash floods', 'australia floods', 'umbrella...  PT3M39S  \n",
      "3             ['science', 'i did a thing', 'education']  PT4M22S  \n",
      "4     ['science', 'i did a thing', 'mythbusters', 'e...  PT4M22S  \n",
      "...                                                 ...      ...  \n",
      "3313  ['Internet Friends', 'InternetFriends', 'LDR',...  PT4M56S  \n",
      "3314                                                 []  PT4M56S  \n",
      "3315  ['Travel', 'Film', 'TravelFilm', 'RoadTrip', '...  PT4M56S  \n",
      "3316  ['Travel', 'Film', 'TravelFilm', 'RoadTrip', '...  PT4M56S  \n",
      "3317  ['Travel', 'Film', 'RoadTrip', 'Oregon', 'Trav...  PT4M56S  \n",
      "\n",
      "[3318 rows x 8 columns]\n"
     ]
    }
   ],
   "source": [
    "videosdata = pandas.read_csv('correcteddata.csv')\n",
    "allzscores = []\n",
    "for videoind in videosdata.index:\n",
    "    curChannel = str(videosdata.iloc[videoind]['ChannelID'])\n",
    "    curChanViews = videosdata.iloc[videoind]['Viewcount']\n",
    "    surrounding = []\n",
    "\n",
    "    forward = 8\n",
    "    if videoind >= videosdata.shape[0] - 7 -1:\n",
    "        forward = videosdata.shape[0]-1 - videoind\n",
    "        \n",
    "    for v in range(forward):\n",
    "        surrounding.append(videosdata.iloc[videoind+v])\n",
    "    a=7\n",
    "    for v in range(7):\n",
    "        surrounding.append(videosdata.iloc[videoind-a])\n",
    "        a-=1\n",
    "    \n",
    "    surrounding = pandas.DataFrame(surrounding).reset_index(drop=True) # resets indexnummbers from original dataframe to up to date indexes\n",
    "    \n",
    "    todel = [] \n",
    "    for s in surrounding.index: # removes other channels from surrounding 7 videos\n",
    "        urmum =str(surrounding.iloc[s]['ChannelID'])\n",
    "        if urmum != curChannel: # if channel not the same\n",
    "            todel.append(s)\n",
    "    chansurround = surrounding.drop(index=todel).reset_index(drop=True)\n",
    "\n",
    "    viewcounts = []\n",
    "    for i in chansurround.index:\n",
    "        viewcounts.append(chansurround.iloc[i]['Viewcount'])\n",
    "    zscore = (curChanViews - statistics.mean(viewcounts)) / statistics.stdev(viewcounts)\n",
    "    allzscores.append(zscore)\n",
    "\n",
    "videosdata['Z-Score'] = allzscores\n",
    "videosdata.to_csv('datazscores.csv')"
   ]
  }
 ],
 "metadata": {
  "kernelspec": {
   "display_name": "Python 3.9.7 64-bit",
   "language": "python",
   "name": "python3"
  },
  "language_info": {
   "codemirror_mode": {
    "name": "ipython",
    "version": 3
   },
   "file_extension": ".py",
   "mimetype": "text/x-python",
   "name": "python",
   "nbconvert_exporter": "python",
   "pygments_lexer": "ipython3",
   "version": "3.9.7"
  },
  "orig_nbformat": 4,
  "vscode": {
   "interpreter": {
    "hash": "1f84be272b029bb9e400cc8489ce55bae89653ee1c96ee4ce526cabbc41e0248"
   }
  }
 },
 "nbformat": 4,
 "nbformat_minor": 2
}
